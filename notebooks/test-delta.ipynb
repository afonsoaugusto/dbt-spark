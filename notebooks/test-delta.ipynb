{
 "cells": [
  {
   "cell_type": "code",
   "execution_count": 1,
   "id": "ff92052d-e27c-4e04-a1ca-bcca45aa0e33",
   "metadata": {},
   "outputs": [
    {
     "name": "stdout",
     "output_type": "stream",
     "text": [
      "Requirement already satisfied: delta-spark==1.2.0 in /opt/conda/lib/python3.9/site-packages (1.2.0)\n",
      "Requirement already satisfied: pyspark<3.3.0,>=3.2.0 in /usr/local/spark-3.2.1-bin-hadoop3.2/python (from delta-spark==1.2.0) (3.2.1)\n",
      "Requirement already satisfied: importlib-metadata>=1.0.0 in /opt/conda/lib/python3.9/site-packages (from delta-spark==1.2.0) (4.11.3)\n",
      "Requirement already satisfied: zipp>=0.5 in /opt/conda/lib/python3.9/site-packages (from importlib-metadata>=1.0.0->delta-spark==1.2.0) (3.8.0)\n",
      "Requirement already satisfied: py4j==0.10.9.3 in /opt/conda/lib/python3.9/site-packages (from pyspark<3.3.0,>=3.2.0->delta-spark==1.2.0) (0.10.9.3)\n"
     ]
    }
   ],
   "source": [
    "!pip install delta-spark==1.2.0"
   ]
  },
  {
   "cell_type": "code",
   "execution_count": 2,
   "id": "428cb025-e4c9-42e5-a6e4-91bc1c943d68",
   "metadata": {},
   "outputs": [],
   "source": [
    "from pyspark.sql import SparkSession"
   ]
  },
  {
   "cell_type": "code",
   "execution_count": 3,
   "id": "e6a30663-babb-490c-9dfe-1079c4188e29",
   "metadata": {},
   "outputs": [],
   "source": [
    "import pyspark\n",
    "from delta import *\n",
    "\n",
    "builder = pyspark.sql.SparkSession.builder.appName(\"DeltaApp\") \\\n",
    "    .config(\"spark.sql.extensions\", \"io.delta.sql.DeltaSparkSessionExtension\") \\\n",
    "    .config(\"spark.sql.catalog.spark_catalog\", \"org.apache.spark.sql.delta.catalog.DeltaCatalog\") \n",
    "\n",
    "spark = configure_spark_with_delta_pip(builder).master(\"spark://spark:7077\").getOrCreate()\n",
    "\n",
    "spark._jsc.hadoopConfiguration().set(\"fs.s3a.endpoint\", \"http://localstack:4566\")\n",
    "spark._jsc.hadoopConfiguration().set(\"fs.s3a.access.key\", \"foo\")\n",
    "spark._jsc.hadoopConfiguration().set(\"fs.s3a.secret.key\", \"foo\")\n",
    "spark._jsc.hadoopConfiguration().set(\"fs.s3a.impl\",\"org.apache.hadoop.fs.s3a.S3AFileSystem\")\n",
    "spark._jsc.hadoopConfiguration().set(\"fs.s3a.path.style.access\", \"true\")\n",
    "spark._jsc.hadoopConfiguration().set(\"fs.s3a.aws.credentials.provider\",\"org.apache.hadoop.fs.s3a.SimpleAWSCredentialsProvider\")"
   ]
  },
  {
   "cell_type": "code",
   "execution_count": 4,
   "id": "00ef8224-1076-40bc-a66f-59598b210f75",
   "metadata": {},
   "outputs": [],
   "source": [
    "data = spark.range(0, 5)\n",
    "data.write.format(\"delta\").save(\"s3a://mytestbucket/table\")"
   ]
  },
  {
   "cell_type": "code",
   "execution_count": 5,
   "id": "66fdd728-e832-4ecb-8c58-baaa211c9393",
   "metadata": {},
   "outputs": [
    {
     "name": "stdout",
     "output_type": "stream",
     "text": [
      "+---+\n",
      "| id|\n",
      "+---+\n",
      "|  2|\n",
      "|  3|\n",
      "|  4|\n",
      "|  0|\n",
      "|  1|\n",
      "+---+\n",
      "\n"
     ]
    }
   ],
   "source": [
    "df = spark.read.format(\"delta\").load(\"s3a://mytestbucket/table\")\n",
    "df.show()"
   ]
  }
 ],
 "metadata": {
  "kernelspec": {
   "display_name": "Python 3 (ipykernel)",
   "language": "python",
   "name": "python3"
  },
  "language_info": {
   "codemirror_mode": {
    "name": "ipython",
    "version": 3
   },
   "file_extension": ".py",
   "mimetype": "text/x-python",
   "name": "python",
   "nbconvert_exporter": "python",
   "pygments_lexer": "ipython3",
   "version": "3.9.10"
  }
 },
 "nbformat": 4,
 "nbformat_minor": 5
}
