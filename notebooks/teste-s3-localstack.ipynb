{
 "cells": [
  {
   "cell_type": "code",
   "execution_count": 1,
   "id": "6fa6952f-d383-4698-95bf-74875dd09bff",
   "metadata": {},
   "outputs": [],
   "source": [
    "from pyspark.sql import SparkSession"
   ]
  },
  {
   "cell_type": "code",
   "execution_count": 2,
   "id": "91ebccd7-ff03-49cd-9fcd-d17a44fcf0bb",
   "metadata": {},
   "outputs": [],
   "source": [
    "spark = SparkSession.builder \\\n",
    "            .appName(\"my_app\") \\\n",
    "            .master(\"spark://spark:7077\") \\\n",
    "            .getOrCreate()\n",
    "\n",
    "spark._jsc.hadoopConfiguration().set(\"fs.s3a.endpoint\", \"http://localstack:4566\")\n",
    "spark._jsc.hadoopConfiguration().set(\"fs.s3a.access.key\", \"foo\")\n",
    "spark._jsc.hadoopConfiguration().set(\"fs.s3a.secret.key\", \"foo\")\n",
    "spark._jsc.hadoopConfiguration().set(\"fs.s3a.impl\",\"org.apache.hadoop.fs.s3a.S3AFileSystem\")\n",
    "spark._jsc.hadoopConfiguration().set(\"fs.s3a.path.style.access\", \"true\")\n",
    "spark._jsc.hadoopConfiguration().set(\"fs.s3a.aws.credentials.provider\",\"org.apache.hadoop.fs.s3a.SimpleAWSCredentialsProvider\")"
   ]
  },
  {
   "cell_type": "code",
   "execution_count": 3,
   "id": "2c6760c3-db70-4c49-afa0-4501c4a227de",
   "metadata": {},
   "outputs": [
    {
     "name": "stdout",
     "output_type": "stream",
     "text": [
      "+---+-----------+-----+------+--------------------+--------------------+-------+-------------------+----+--------------------+\n",
      "| id|select_type|table|  type|       possible_keys|                 key|key_len|                ref|rows|               Extra|\n",
      "+---+-----------+-----+------+--------------------+--------------------+-------+-------------------+----+--------------------+\n",
      "|  1|    PRIMARY|    t| range|PRIMARY,idusers,i...|idx_transaction_i...|      9|               null|4861|Using index condi...|\n",
      "|  1|    PRIMARY|    u|eq_ref|             PRIMARY|             PRIMARY|      4|       mm.t.idusers|   1|                null|\n",
      "|  1|    PRIMARY|    f|   ref|idtransactions,id...|      idtransactions|      4|mm.t.idtransactions|   1|         Using where|\n",
      "|  1|    PRIMARY|    a|eq_ref|  PRIMARY,idairlines|             PRIMARY|      4|    mm.f.idairlines|   1|                null|\n",
      "|  1|    PRIMARY|    n|eq_ref|PRIMARY,idstatus_...|             PRIMARY|      4|        mm.t.idnips|   1|         Using where|\n",
      "+---+-----------+-----+------+--------------------+--------------------+-------+-------------------+----+--------------------+\n",
      "only showing top 5 rows\n",
      "\n"
     ]
    }
   ],
   "source": [
    "s3_df=spark.read.csv(\"s3a://mytestbucket/explain_202110291220.csv\",header=True,inferSchema=True)\n",
    "s3_df.show(5)"
   ]
  },
  {
   "cell_type": "code",
   "execution_count": null,
   "id": "372d2f48-5125-414b-adc4-0e2aa1d57026",
   "metadata": {},
   "outputs": [],
   "source": []
  }
 ],
 "metadata": {
  "kernelspec": {
   "display_name": "Python 3 (ipykernel)",
   "language": "python",
   "name": "python3"
  },
  "language_info": {
   "codemirror_mode": {
    "name": "ipython",
    "version": 3
   },
   "file_extension": ".py",
   "mimetype": "text/x-python",
   "name": "python",
   "nbconvert_exporter": "python",
   "pygments_lexer": "ipython3",
   "version": "3.9.10"
  }
 },
 "nbformat": 4,
 "nbformat_minor": 5
}
